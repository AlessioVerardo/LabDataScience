{
 "cells": [
  {
   "cell_type": "markdown",
   "id": "9ad80b89-02e6-493e-a681-eb677ef86a00",
   "metadata": {},
   "source": [
    "# Delays estimation\n",
    "\n",
    "In this notebook, we build the models for the delays of the different mean of transport. The delay between two stops for a given trip is modelled by an exponential random variable. Note that this distribution only models positive values. Therefore we consider that trains/buses/etc either arrive on time or late.\n",
    "\n",
    "## Setup PySpark"
   ]
  },
  {
   "cell_type": "code",
   "execution_count": 1,
   "id": "a9f0ce29-5087-4717-b148-1fbd2775b268",
   "metadata": {},
   "outputs": [],
   "source": [
    "%load_ext sparkmagic.magics"
   ]
  },
  {
   "cell_type": "code",
   "execution_count": 2,
   "id": "d11239c2-4ce5-4bcf-9621-c8d1e86957a9",
   "metadata": {},
   "outputs": [
    {
     "name": "stdout",
     "output_type": "stream",
     "text": [
      "verardo\n"
     ]
    }
   ],
   "source": [
    "import os\n",
    "import warnings\n",
    "import pandas as pd\n",
    "warnings.simplefilter(action='ignore', category=UserWarning)\n",
    "\n",
    "username = os.environ['RENKU_USERNAME']\n",
    "print(username)"
   ]
  },
  {
   "cell_type": "code",
   "execution_count": 3,
   "id": "77a085d6-fae8-491b-8a5b-92166531af88",
   "metadata": {},
   "outputs": [],
   "source": [
    "server = \"http://iccluster029.iccluster.epfl.ch:8998\"\n",
    "from IPython import get_ipython\n",
    "get_ipython().run_cell_magic('spark', line=\"config\", \n",
    "                             cell=\"\"\"{{ \"name\":\"{0}-aces\", \"executorMemory\":\"20G\", \"executorCores\":6, \"numExecutors\":10 }}\"\"\".format(username))"
   ]
  },
  {
   "cell_type": "code",
   "execution_count": 4,
   "id": "6c3d2019-e07c-484a-9172-3d8f62a6a9f4",
   "metadata": {},
   "outputs": [
    {
     "name": "stdout",
     "output_type": "stream",
     "text": [
      "Starting Spark application\n"
     ]
    },
    {
     "data": {
      "text/html": [
       "<table>\n",
       "<tr><th>ID</th><th>YARN Application ID</th><th>Kind</th><th>State</th><th>Spark UI</th><th>Driver log</th><th>User</th><th>Current session?</th></tr><tr><td>9408</td><td>application_1652960972356_5234</td><td>pyspark</td><td>idle</td><td><a target=\"_blank\" href=\"http://iccluster029.iccluster.epfl.ch:8088/proxy/application_1652960972356_5234/\">Link</a></td><td><a target=\"_blank\" href=\"http://iccluster059.iccluster.epfl.ch:8042/node/containerlogs/container_e05_1652960972356_5234_01_000001/eric\">Link</a></td><td>None</td><td>✔</td></tr></table>"
      ],
      "text/plain": [
       "<IPython.core.display.HTML object>"
      ]
     },
     "metadata": {},
     "output_type": "display_data"
    },
    {
     "data": {
      "application/vnd.jupyter.widget-view+json": {
       "model_id": "",
       "version_major": 2,
       "version_minor": 0
      },
      "text/plain": [
       "FloatProgress(value=0.0, bar_style='info', description='Progress:', layout=Layout(height='25px', width='50%'),…"
      ]
     },
     "metadata": {},
     "output_type": "display_data"
    },
    {
     "name": "stdout",
     "output_type": "stream",
     "text": [
      "SparkSession available as 'spark'.\n"
     ]
    }
   ],
   "source": [
    "get_ipython().run_line_magic(\n",
    "    \"spark\", \"add -s {0}-aces -l python -u {1} -k\".format(username, server)\n",
    ")"
   ]
  },
  {
   "cell_type": "markdown",
   "id": "b891de8e-fa2b-4bba-bc36-7e820cf740d5",
   "metadata": {},
   "source": [
    "## Data for transport in the vicinity of Zürich\n",
    "As our planner is limited to a circular area of 15km radius around Zürich, we keep only the data corresponding to the corresponding stations."
   ]
  },
  {
   "cell_type": "code",
   "execution_count": 5,
   "id": "4bc9e256-bfef-42b8-8465-10460086affc",
   "metadata": {},
   "outputs": [
    {
     "data": {
      "application/vnd.jupyter.widget-view+json": {
       "model_id": "",
       "version_major": 2,
       "version_minor": 0
      },
      "text/plain": [
       "FloatProgress(value=0.0, bar_style='info', description='Progress:', layout=Layout(height='25px', width='50%'),…"
      ]
     },
     "metadata": {},
     "output_type": "display_data"
    }
   ],
   "source": [
    "%%spark\n",
    "istdaten = spark.read.orc('/data/sbb/orc/istdaten/').cache()"
   ]
  },
  {
   "cell_type": "code",
   "execution_count": 6,
   "id": "39fba26b-de5f-4c69-820b-9016202a3902",
   "metadata": {},
   "outputs": [
    {
     "data": {
      "application/vnd.jupyter.widget-view+json": {
       "model_id": "",
       "version_major": 2,
       "version_minor": 0
      },
      "text/plain": [
       "FloatProgress(value=0.0, bar_style='info', description='Progress:', layout=Layout(height='25px', width='50%'),…"
      ]
     },
     "metadata": {},
     "output_type": "display_data"
    }
   ],
   "source": [
    "%%spark\n",
    "\n",
    "# Get the nodes that are around Zürich\n",
    "nodes_zh_id = spark.read.orc('/group/aces/nodes.orc').select('stop_id').rdd.flatMap(lambda x: x).map(lambda x: x.split(':')[0]).distinct().collect()"
   ]
  },
  {
   "cell_type": "code",
   "execution_count": 7,
   "id": "a787febf-dc18-4943-9ca3-e3779b4500e5",
   "metadata": {},
   "outputs": [
    {
     "data": {
      "application/vnd.jupyter.widget-view+json": {
       "model_id": "",
       "version_major": 2,
       "version_minor": 0
      },
      "text/plain": [
       "FloatProgress(value=0.0, bar_style='info', description='Progress:', layout=Layout(height='25px', width='50%'),…"
      ]
     },
     "metadata": {},
     "output_type": "display_data"
    }
   ],
   "source": [
    "%%spark\n",
    "istdaten_zh = istdaten.filter(istdaten.bpuic.isin(nodes_zh_id))"
   ]
  },
  {
   "cell_type": "markdown",
   "id": "41a086d9-7cc8-47e4-8831-4855fd716b25",
   "metadata": {},
   "source": [
    "## Preprocessing\n",
    "\n",
    "We preprocess the SBB data in the following way :\n",
    "\n",
    "- Filter out additional trips that are not part of the regular schedule (zusatzfahrt_tf == False)\n",
    "- Filter out trips that did not arrive at destination (faellt_aus_tf == False)\n",
    "- Keep only stops that have a effective (REAL), estimated (GESCHAETZT) or forecasted (PROGNOSE) arrival and departure times\n",
    "- Filter out stops that have no arrival time (an_prognose != '')\n",
    "- Filter out stops that have no departure time (ankunftszeit != '')\n",
    "- Filter out rows where the train/bus/etc did not stop, we only represent direct edges (durchfahrt_tf == False)\n",
    "- Filter out stops that are not during the week days and not during working hours (departure after 0600 and arrival before 2000)"
   ]
  },
  {
   "cell_type": "code",
   "execution_count": 8,
   "id": "5c61c8ba-294d-48c0-9b35-0aebf51ef8b6",
   "metadata": {},
   "outputs": [
    {
     "data": {
      "application/vnd.jupyter.widget-view+json": {
       "model_id": "",
       "version_major": 2,
       "version_minor": 0
      },
      "text/plain": [
       "FloatProgress(value=0.0, bar_style='info', description='Progress:', layout=Layout(height='25px', width='50%'),…"
      ]
     },
     "metadata": {},
     "output_type": "display_data"
    }
   ],
   "source": [
    "%%spark\n",
    "from pyspark.sql.functions import hour, col, to_timestamp, when, dayofweek\n",
    "\n",
    "istdaten_zh_cleaned = istdaten_zh.filter((col('zusatzfahrt_tf') == False)\n",
    "                                         & (col('faellt_aus_tf') == False)\n",
    "                                         & (col('an_prognose_status').isin(['REAL', 'PROGNOSE', 'GESCHAETZT']))\n",
    "                                         & (col('ab_prognose_status').isin(['REAL', 'PROGNOSE', 'GESCHAETZT']))\n",
    "                                         & (col('an_prognose') != '')\n",
    "                                         & (col('ankunftszeit') != '')\n",
    "                                         & (col('durchfahrt_tf') == False)\n",
    "                                         & (dayofweek(to_timestamp(col('an_prognose'), format=\"dd.MM.yyyy HH:mm:ss\")) % 7 > 1) # To keep only week days\n",
    "                                         & (hour(to_timestamp(col('ab_prognose'), format=\"dd.MM.yyyy HH:mm:ss\")) >= 6)\n",
    "                                         & (hour(to_timestamp(col('an_prognose'), format=\"dd.MM.yyyy HH:mm:ss\")) <= 20)).cache()"
   ]
  },
  {
   "cell_type": "markdown",
   "id": "21f33f74-3b74-40fc-a2a2-ee3a422214de",
   "metadata": {},
   "source": [
    "### Remove special transports\n",
    "\n",
    "The data contains rows for more special transports such as agency trains (AG), special trains (EXT), express bus (EXB), Voralpen-Express (VAE) and low-floor bus (NFB). We remove them as we concentrate on the Zürich area where the user is unlikely to take such transports."
   ]
  },
  {
   "cell_type": "code",
   "execution_count": 9,
   "id": "736a7bc3-d4b4-4ed5-8fcc-0ca8ab31174a",
   "metadata": {},
   "outputs": [
    {
     "data": {
      "application/vnd.jupyter.widget-view+json": {
       "model_id": "",
       "version_major": 2,
       "version_minor": 0
      },
      "text/plain": [
       "FloatProgress(value=0.0, bar_style='info', description='Progress:', layout=Layout(height='25px', width='50%'),…"
      ]
     },
     "metadata": {},
     "output_type": "display_data"
    },
    {
     "name": "stdout",
     "output_type": "stream",
     "text": [
      "[Row(verkehrsmittel_text=u'IC'), Row(verkehrsmittel_text=u'ZUG'), Row(verkehrsmittel_text=u'RE'), Row(verkehrsmittel_text=u'NJ'), Row(verkehrsmittel_text=u'T'), Row(verkehrsmittel_text=u'B'), Row(verkehrsmittel_text=u'EC'), Row(verkehrsmittel_text=u'IR'), Row(verkehrsmittel_text=u'Trm'), Row(verkehrsmittel_text=u'ICE'), Row(verkehrsmittel_text=u'NFB'), Row(verkehrsmittel_text=u'S'), Row(verkehrsmittel_text=u'FUN'), Row(verkehrsmittel_text=u'Bus'), Row(verkehrsmittel_text=u'EXT'), Row(verkehrsmittel_text=u'RJX'), Row(verkehrsmittel_text=u'RJ'), Row(verkehrsmittel_text=u'')]"
     ]
    }
   ],
   "source": [
    "%%spark\n",
    "istdaten_zh_cleaned.select('verkehrsmittel_text').distinct().collect()"
   ]
  },
  {
   "cell_type": "code",
   "execution_count": 10,
   "id": "bdc58fc2-fd97-4ff5-8a09-29f651c56115",
   "metadata": {},
   "outputs": [
    {
     "data": {
      "application/vnd.jupyter.widget-view+json": {
       "model_id": "",
       "version_major": 2,
       "version_minor": 0
      },
      "text/plain": [
       "FloatProgress(value=0.0, bar_style='info', description='Progress:', layout=Layout(height='25px', width='50%'),…"
      ]
     },
     "metadata": {},
     "output_type": "display_data"
    }
   ],
   "source": [
    "%%spark\n",
    "\n",
    "# Filter out special kind of trains/transport to avoid bias the delays\n",
    "unwanted_transport = ['AG', 'EXT', 'EXB', 'VAE', 'NFB']\n",
    "istdaten_zh_cleaned = istdaten_zh_cleaned.filter(~col('verkehrsmittel_text').isin(unwanted_transport))"
   ]
  },
  {
   "cell_type": "markdown",
   "id": "d54ab1bb-ce0f-4be4-b14b-6817288e3192",
   "metadata": {},
   "source": [
    "### Aggregate the different types of transports\n",
    "\n",
    "The produkt_id column contains different types of transports such as \"IC\", \"IR\", \"ZUG\" that we all aggregate to \"Train\" to then compute the delays for each of these aggregate categories, depending on the hour of the day."
   ]
  },
  {
   "cell_type": "code",
   "execution_count": 11,
   "id": "c5cb79f8-606e-45ed-a8d1-221a0c4f081d",
   "metadata": {},
   "outputs": [
    {
     "data": {
      "application/vnd.jupyter.widget-view+json": {
       "model_id": "",
       "version_major": 2,
       "version_minor": 0
      },
      "text/plain": [
       "FloatProgress(value=0.0, bar_style='info', description='Progress:', layout=Layout(height='25px', width='50%'),…"
      ]
     },
     "metadata": {},
     "output_type": "display_data"
    },
    {
     "name": "stdout",
     "output_type": "stream",
     "text": [
      "[Row(produkt_id=u'Standseilbahn'), Row(produkt_id=u'Tram'), Row(produkt_id=u'Zug'), Row(produkt_id=u'Bus'), Row(produkt_id=u'')]"
     ]
    }
   ],
   "source": [
    "%%spark\n",
    "istdaten_zh_cleaned.select('produkt_id').distinct().collect()"
   ]
  },
  {
   "cell_type": "code",
   "execution_count": 12,
   "id": "4c347b32-3037-497e-ba27-b61e94e624e8",
   "metadata": {},
   "outputs": [
    {
     "data": {
      "application/vnd.jupyter.widget-view+json": {
       "model_id": "",
       "version_major": 2,
       "version_minor": 0
      },
      "text/plain": [
       "FloatProgress(value=0.0, bar_style='info', description='Progress:', layout=Layout(height='25px', width='50%'),…"
      ]
     },
     "metadata": {},
     "output_type": "display_data"
    }
   ],
   "source": [
    "%%spark\n",
    "import pyspark.sql.functions as F\n",
    "from pyspark.sql.functions import col\n",
    "\n",
    "# Translate the transport meaning\n",
    "transport_mapping = {\n",
    "    \"BUS\": \"Bus\",\n",
    "    \"Zug\": \"Train\",\n",
    "    \"Bus\": \"Bus\",\n",
    "    \"BUS\": \"Bus\",\n",
    "    \"ICE\": \"Train\",\n",
    "    \"IC\": \"Train\",\n",
    "    \"IR\": \"Train\",\n",
    "    \"ZUG\": \"Train\",\n",
    "    \"RE\": \"Train\",\n",
    "    \"S\": \"Train\",\n",
    "    \"R\": \"Train\",\n",
    "    \"PE\": \"Train\",\n",
    "    \"EC\": \"Train\",\n",
    "    \"NJ\": \"Train\",\n",
    "    \"RJ\": \"Train\",\n",
    "    \"RJX\": \"Train\",\n",
    "    \"FUN\": \"Other\",\n",
    "    \"Standseilbahn\": \"Other\",\n",
    "    \"B\": \"Bus\",\n",
    "    \"T\": \"Tram\",\n",
    "    \"Trm\": \"Tram\",\n",
    "    \"Tram\": \"Tram\",\n",
    "    \"TGV\": \"Train\",\n",
    "    \"\": \"Other\"\n",
    "}\n",
    "\n",
    "@F.udf\n",
    "def map_transport(x):\n",
    "    return transport_mapping[x]\n",
    "\n",
    "istdaten_zh_cleaned = istdaten_zh_cleaned.withColumn('produkt_id', when(col('produkt_id') == '', map_transport(col('verkehrsmittel_text'))).otherwise(map_transport(col('produkt_id'))))"
   ]
  },
  {
   "cell_type": "markdown",
   "id": "2b9b1f67-60a4-44c5-b05b-aeae3b3ece4b",
   "metadata": {},
   "source": [
    "### Delay at each stop\n",
    "Now, we compute the delay for each of the row we have at disposition. It is expressed in seconds and defined as :\n",
    "\n",
    "$$\n",
    "\\text{\\{expected hour of arrival at the stop (according to the timetable)\\} } - \\text{\\{actual arrival at the stops according to the measurement\\}}\n",
    "$$\n",
    "\n",
    "The train/bus might arrive in advance at the stop, in which case we clip its delay to 0 instead of keeping a negative value. This is due to our modelling of the delay by an exponential distribution which can only take positive values."
   ]
  },
  {
   "cell_type": "code",
   "execution_count": 13,
   "id": "4be26865-75df-4af5-b1b6-a651f74ce940",
   "metadata": {},
   "outputs": [
    {
     "data": {
      "application/vnd.jupyter.widget-view+json": {
       "model_id": "",
       "version_major": 2,
       "version_minor": 0
      },
      "text/plain": [
       "FloatProgress(value=0.0, bar_style='info', description='Progress:', layout=Layout(height='25px', width='50%'),…"
      ]
     },
     "metadata": {},
     "output_type": "display_data"
    }
   ],
   "source": [
    "%%spark\n",
    "# Compute the delay, clipping to 0 when it is negative\n",
    "istdaten_zh_cleaned = istdaten_zh_cleaned.withColumn('delay', to_timestamp(istdaten_zh_cleaned.an_prognose, 'dd.MM.yyyy HH:mm:ss').cast('long') - to_timestamp(istdaten_zh_cleaned.ankunftszeit, 'dd.MM.yyyy HH:mm').cast('long'))\n",
    "#istdaten_zh_cleaned = istdaten_zh_cleaned.withColumn('delay', when(col('delay') < 0, 0).otherwise(col('delay')))\n",
    "istdaten_zh_cleaned = istdaten_zh_cleaned.withColumn('expected_arrival_hour', hour(to_timestamp(istdaten_zh_cleaned.ankunftszeit, 'dd.MM.yyyy HH:mm')))"
   ]
  },
  {
   "cell_type": "markdown",
   "id": "f5b373a8-afec-4f7e-ad26-775e15c613e1",
   "metadata": {},
   "source": [
    "### Aggregated delay\n",
    "\n",
    "We then aggregate the delays w.r.t. different categories :\n",
    "\n",
    "- by stop id : different stops may have different statistics regarding the delays of the transports going through it\n",
    "- by type of transport (produkt_id) : trains can have different behaviors in terms of delays compared to buses that drive through the city center for example\n",
    "- by the hour of arrival : we can expect transport to have more or less delays in different time of the day. For example, during the rush hour around 0800, it is likely there will be more delays than during the afternoon at 1500 for example.\n",
    "\n",
    "We compute the average delays for each combination of these three variables present in the data."
   ]
  },
  {
   "cell_type": "code",
   "execution_count": 23,
   "id": "6e6a2e5f-e2d3-495a-82fa-56f6e9909825",
   "metadata": {},
   "outputs": [
    {
     "data": {
      "application/vnd.jupyter.widget-view+json": {
       "model_id": "",
       "version_major": 2,
       "version_minor": 0
      },
      "text/plain": [
       "FloatProgress(value=0.0, bar_style='info', description='Progress:', layout=Layout(height='25px', width='50%'),…"
      ]
     },
     "metadata": {},
     "output_type": "display_data"
    }
   ],
   "source": [
    "%%spark\n",
    "istdaten_zh_cleaned_percentile = (istdaten_zh_cleaned.groupBy(['bpuic', 'produkt_id', 'expected_arrival_hour'])\n",
    "    .agg(\n",
    "        F.expr('percentile(delay, array(0.95))')[0].alias('95perc'),\n",
    "        F.expr('percentile(delay, array(0.05))')[0].alias('5perc')\n",
    "    ))\n",
    "#istdaten_zh_cleaned = istdaten_zh_cleaned.join(mean_df, (mean_df.bpuic == istdaten_zh_cleaned.bpuic) & (mean_df.produkt_id == istdaten_zh_cleaned.produkt_id) & (istdaten_zh_cleaned.expected_arrival_hour == mean_df.expected_arrival_hour))\n",
    "#istdaten_zh_cleaned = istdaten_zh_cleaned.join(mean_df, on=['bpuic', 'produkt_id', 'expected_arrival_hour'])\n",
    "istdaten_zh_cleaned = (istdaten_zh_cleaned.join(istdaten_zh_cleaned_percentile, on=[\"bpuic\", \"produkt_id\",\"expected_arrival_hour\"])\n",
    "                           .filter((col(\"delay\")>=col(\"5perc\"))&(col(\"delay\")<=col(\"95perc\")))\n",
    "                      )"
   ]
  },
  {
   "cell_type": "code",
   "execution_count": 24,
   "id": "9dc8aa6a-aa15-45f4-836e-9b058b9a331d",
   "metadata": {},
   "outputs": [
    {
     "data": {
      "application/vnd.jupyter.widget-view+json": {
       "model_id": "",
       "version_major": 2,
       "version_minor": 0
      },
      "text/plain": [
       "FloatProgress(value=0.0, bar_style='info', description='Progress:', layout=Layout(height='25px', width='50%'),…"
      ]
     },
     "metadata": {},
     "output_type": "display_data"
    }
   ],
   "source": [
    "%%spark\n",
    "istdaten_zh_cleaned = (istdaten_zh_cleaned.groupBy(['bpuic', 'produkt_id', 'expected_arrival_hour'])\n",
    "    .agg(\n",
    "        F.expr('mean(delay)').alias('mean_delay'),\n",
    "        F.expr('std(delay)').alias('std_delay'),\n",
    "        F.expr('percentile(delay,array(0.5))')[0].alias('median_delay')\n",
    "    )).cache()"
   ]
  },
  {
   "cell_type": "code",
   "execution_count": 25,
   "id": "76994f56-636d-4d7c-a8cd-c1ed652ceebd",
   "metadata": {},
   "outputs": [
    {
     "data": {
      "application/vnd.jupyter.widget-view+json": {
       "model_id": "3ec440ad9dd14e3895fb4a9de9c47d79",
       "version_major": 2,
       "version_minor": 0
      },
      "text/plain": [
       "FloatProgress(value=0.0, bar_style='info', description='Progress:', layout=Layout(height='25px', width='50%'),…"
      ]
     },
     "metadata": {},
     "output_type": "display_data"
    },
    {
     "name": "stderr",
     "output_type": "stream",
     "text": [
      "Interrupted by user\n"
     ]
    }
   ],
   "source": [
    "%%spark\n",
    "istdaten_zh_cleaned.count()"
   ]
  },
  {
   "cell_type": "code",
   "execution_count": 19,
   "id": "47498a15-75d8-4e09-8d35-c3fccba4d5ee",
   "metadata": {},
   "outputs": [
    {
     "data": {
      "application/vnd.jupyter.widget-view+json": {
       "model_id": "434f25a1094c4f5ab8407b1e491dab81",
       "version_major": 2,
       "version_minor": 0
      },
      "text/plain": [
       "FloatProgress(value=0.0, bar_style='info', description='Progress:', layout=Layout(height='25px', width='50%'),…"
      ]
     },
     "metadata": {},
     "output_type": "display_data"
    },
    {
     "name": "stderr",
     "output_type": "stream",
     "text": [
      "Interrupted by user\n"
     ]
    }
   ],
   "source": [
    "%%spark\n",
    "istdaten_zh_cleaned.distinct().count()"
   ]
  },
  {
   "cell_type": "code",
   "execution_count": 28,
   "id": "21df9030-41d6-4390-ac9b-3a60a6682cb3",
   "metadata": {},
   "outputs": [
    {
     "data": {
      "application/vnd.jupyter.widget-view+json": {
       "model_id": "",
       "version_major": 2,
       "version_minor": 0
      },
      "text/plain": [
       "FloatProgress(value=0.0, bar_style='info', description='Progress:', layout=Layout(height='25px', width='50%'),…"
      ]
     },
     "metadata": {},
     "output_type": "display_data"
    }
   ],
   "source": [
    "%%spark\n",
    "istdaten_zh_cleaned.select(\n",
    "    istdaten_zh_cleaned.bpuic.alias('end_bpuic'),\n",
    "    istdaten_zh_cleaned.produkt_id.alias('transport'),\n",
    "    istdaten_zh_cleaned.mean_delay,\n",
    "    istdaten_zh_cleaned.std_delay,\n",
    "    istdaten_zh_cleaned.median_delay,\n",
    "    istdaten_zh_cleaned.expected_arrival_hour.alias('hour')\n",
    ").write.save('/group/aces/istdaten_delays.orc', format='orc', mode='overwrite')"
   ]
  },
  {
   "cell_type": "code",
   "execution_count": null,
   "id": "c871a651-0b49-4a9e-bc98-181c73564373",
   "metadata": {},
   "outputs": [],
   "source": []
  }
 ],
 "metadata": {
  "kernelspec": {
   "display_name": "Python 3",
   "language": "python",
   "name": "python3"
  },
  "language_info": {
   "codemirror_mode": {
    "name": "ipython",
    "version": 3
   },
   "file_extension": ".py",
   "mimetype": "text/x-python",
   "name": "python",
   "nbconvert_exporter": "python",
   "pygments_lexer": "ipython3",
   "version": "3.9.7"
  }
 },
 "nbformat": 4,
 "nbformat_minor": 5
}
